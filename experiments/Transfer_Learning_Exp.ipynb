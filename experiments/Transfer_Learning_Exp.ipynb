{
  "nbformat": 4,
  "nbformat_minor": 0,
  "metadata": {
    "colab": {
      "name": "Transfer Learning Exp.ipynb",
      "provenance": []
    },
    "kernelspec": {
      "name": "python3",
      "display_name": "Python 3"
    },
    "language_info": {
      "name": "python"
    }
  },
  "cells": [
    {
      "cell_type": "code",
      "metadata": {
        "id": "4OUwoyg6TiGR"
      },
      "source": [
        "import numpy as np\n",
        "\n",
        "from sklearn.metrics import mean_squared_error\n",
        "from sklearn.ensemble import RandomForestRegressor\n",
        "from sklearn.ensemble import ExtraTreesRegressor"
      ],
      "execution_count": 1,
      "outputs": []
    },
    {
      "cell_type": "code",
      "metadata": {
        "colab": {
          "base_uri": "https://localhost:8080/"
        },
        "id": "qNT3Z0uZUH38",
        "outputId": "e5733fa2-cfcb-44e9-c326-04a928b6f61d"
      },
      "source": [
        "pretrain_data_X = np.asarray([np.random.normal(0,1,1000)])\n",
        "\n",
        "\n",
        "pretrain_data_Y = np.squeeze(np.random.normal(0,1,1000))\n",
        "pretrain_data_X = np.transpose(pretrain_data_X)\n",
        "print(pretrain_data_Y.shape)\n",
        "\n",
        "finetune_data_X = np.asarray([np.random.normal(3,4,100)])\n",
        "\n",
        "finetune_data_Y = np.squeeze(np.random.normal(3,4,100))\n",
        "finetune_data_X = np.transpose(finetune_data_X)\n",
        "\n",
        "\n",
        "\n",
        "test_data_X = np.asarray([np.random.normal(3,4,10000)])\n",
        "\n",
        "test_data_Y = np.squeeze( np.random.normal(3,4,10000))\n",
        "test_data_X = np.transpose(test_data_X)\n",
        "\n",
        "\n",
        "#X = np.random.random(100)\n",
        "#Y = f(X) + np.random.normal(100, std=0.1)\n",
        "\n",
        "#X, U ~ normal\n",
        "#Y = f(X,U) + normal\n",
        "#(Y, X) -> model\n"
      ],
      "execution_count": null,
      "outputs": [
        {
          "output_type": "stream",
          "text": [
            "(1000,)\n"
          ],
          "name": "stdout"
        }
      ]
    },
    {
      "cell_type": "code",
      "metadata": {
        "colab": {
          "base_uri": "https://localhost:8080/"
        },
        "id": "qnzKv9ugWwon",
        "outputId": "384fbe8e-95dc-4ad7-f2e8-b6bbc2e556ab"
      },
      "source": [
        "pretrain_data_X.resize"
      ],
      "execution_count": null,
      "outputs": [
        {
          "output_type": "execute_result",
          "data": {
            "text/plain": [
              "<function ndarray.resize>"
            ]
          },
          "metadata": {
            "tags": []
          },
          "execution_count": 4
        }
      ]
    },
    {
      "cell_type": "code",
      "metadata": {
        "id": "tV6iQVBdVKAE"
      },
      "source": [
        "from sklearn.ensemble import GradientBoostingRegressor\n",
        "\n",
        "\n",
        "pretrained_model = RandomForestRegressor(max_depth=4,random_state=0).fit(pretrain_data_X, pretrain_data_Y)\n",
        "\n",
        "\n",
        "#Y_gradient = gradient(Y_finetune, pretrained_model.predict(X_finetune))\n",
        "#finetuned_model = BoostingModel().fit(X_finetune, Y_gradient)\n"
      ],
      "execution_count": null,
      "outputs": []
    },
    {
      "cell_type": "code",
      "metadata": {
        "colab": {
          "base_uri": "https://localhost:8080/"
        },
        "id": "FJuCFXN9WP6A",
        "outputId": "62a92465-9854-4482-e609-2c53d149b782"
      },
      "source": [
        "#Pretrained model gives a negative R^2 score, implying its worse than a horizontal line\n",
        "\n",
        "pretrain_predictions = pretrained_model.predict(test_data_X)\n",
        "\n",
        "rmse_pretrain = mean_squared_error(pretrain_predictions, test_data_Y, squared=False)\n",
        "\n",
        "print(rmse_pretrain)\n",
        "\n",
        "#pretrained_model.predict(np.transpose(finetune_data_X)).shape"
      ],
      "execution_count": null,
      "outputs": [
        {
          "output_type": "stream",
          "text": [
            "4.8900294108324625\n"
          ],
          "name": "stdout"
        }
      ]
    },
    {
      "cell_type": "code",
      "metadata": {
        "colab": {
          "base_uri": "https://localhost:8080/"
        },
        "id": "hb1QKH4_9Oza",
        "outputId": "4935ebd5-ec07-4d7e-9d0b-eb07897add4e"
      },
      "source": [
        "pretrained_model.score(test_data_X, test_data_Y)\n"
      ],
      "execution_count": null,
      "outputs": [
        {
          "output_type": "execute_result",
          "data": {
            "text/plain": [
              "-0.4930329746606619"
            ]
          },
          "metadata": {
            "tags": []
          },
          "execution_count": 7
        }
      ]
    },
    {
      "cell_type": "code",
      "metadata": {
        "colab": {
          "base_uri": "https://localhost:8080/",
          "height": 283
        },
        "id": "TkxDTNABhkvV",
        "outputId": "44cc41f5-9bb3-4345-ba5f-e75914c52df9"
      },
      "source": [
        "import matplotlib.pyplot as plt\n",
        "\n",
        "plt.scatter(test_data_X,test_data_Y)\n",
        "\n",
        "plt.scatter(pretrain_data_X,pretrain_data_Y)\n",
        "plt.legend(['test data generated','pretraining data generated'])\n",
        "\n"
      ],
      "execution_count": null,
      "outputs": [
        {
          "output_type": "execute_result",
          "data": {
            "text/plain": [
              "<matplotlib.legend.Legend at 0x7ff757c2cbd0>"
            ]
          },
          "metadata": {
            "tags": []
          },
          "execution_count": 8
        },
        {
          "output_type": "display_data",
          "data": {
            "image/png": "[encoded data removed]",
            "text/plain": [
              "<Figure size 432x288 with 1 Axes>"
            ]
          },
          "metadata": {
            "tags": [],
            "needs_background": "light"
          }
        }
      ]
    },
    {
      "cell_type": "code",
      "metadata": {
        "colab": {
          "base_uri": "https://localhost:8080/",
          "height": 283
        },
        "id": "EaYqM7u0nRwr",
        "outputId": "f65ef1f3-4623-4874-adc3-8d28d6714ee4"
      },
      "source": [
        "plt.scatter(test_data_X,test_data_Y)\n",
        "\n",
        "plt.scatter(test_data_X,pretrain_predictions)\n",
        "plt.legend(['testing Y data', 'Predicted Y data'])"
      ],
      "execution_count": null,
      "outputs": [
        {
          "output_type": "execute_result",
          "data": {
            "text/plain": [
              "<matplotlib.legend.Legend at 0x7ff757bc6c90>"
            ]
          },
          "metadata": {
            "tags": []
          },
          "execution_count": 9
        },
        {
          "output_type": "display_data",
          "data": {
            "image/png": "[encoded data removed]",
            "text/plain": [
              "<Figure size 432x288 with 1 Axes>"
            ]
          },
          "metadata": {
            "tags": [],
            "needs_background": "light"
          }
        }
      ]
    },
    {
      "cell_type": "code",
      "metadata": {
        "id": "5ev2pcwvY7Xq"
      },
      "source": [
        "#Y_gradient = np.gradient(np.asarray(finetune_data_Y), pretrained_model.predict(finetune_data_X));\n",
        "\n",
        "#finetuned_model = GradientBoostingRegressor().fit(finetune_data_X, Y_gradient)\n",
        "# This produces NaN values\n"
      ],
      "execution_count": null,
      "outputs": []
    },
    {
      "cell_type": "code",
      "metadata": {
        "colab": {
          "base_uri": "https://localhost:8080/"
        },
        "id": "cO8sc_kfcz5v",
        "outputId": "43715d3e-048a-4af2-b080-368fea752064"
      },
      "source": [
        "finetune_data_X.shape"
      ],
      "execution_count": null,
      "outputs": [
        {
          "output_type": "execute_result",
          "data": {
            "text/plain": [
              "(100, 1)"
            ]
          },
          "metadata": {
            "tags": []
          },
          "execution_count": 713
        }
      ]
    },
    {
      "cell_type": "code",
      "metadata": {
        "colab": {
          "base_uri": "https://localhost:8080/"
        },
        "id": "itsKDd2gfLlo",
        "outputId": "58883fe5-d0a8-42d1-da8c-8be9685cdf56"
      },
      "source": [
        "# Unsure about the NaN values, according to https://stackoverflow.com/questions/55974046/numpy-gradient-returning-nan-values-when-using-varargs-array-with-constant-value\n",
        "#This has something to do with the way the gradient thinks about the coordinate systems of the two vectors, so you use a cumsum to make things more like a increasing function I think?\n",
        "\n",
        "y_pred = pretrained_model.predict(finetune_data_X)\n",
        "#print(dX_finetune.shape)\n",
        "#X_finetune = np.cumsum(dX_finetune)\n",
        "grad = -2*sum(finetune_data_Y-y_pred) * y_pred \n",
        " \n",
        "#Y_gradient = np.gradient(np.asarray(finetune_data_Y), X_finetune);\n",
        "\n",
        "#finetuned_model = pretrained_model.fit(dX_finetune, Y_gradient)\n",
        "\n"
      ],
      "execution_count": null,
      "outputs": [
        {
          "output_type": "stream",
          "text": [
            "(100,)\n"
          ],
          "name": "stdout"
        }
      ]
    },
    {
      "cell_type": "code",
      "metadata": {
        "id": "CGjysSFacHKL"
      },
      "source": [
        "pretrained = model().fit(X_pretrain, Y_pretrain)\n",
        "\n",
        "Y_finetune_pred = pretrained.predict(X_finetune)\n",
        "grad = neg_grad_fn(Y_finetune, Y_finetune_pred) # if MSE loss, this is just 2(Y_finetune - Y_finetune_pred) or something\n",
        "\n",
        "finetuned = model().fit(X_pretrain, Y=grad)\n",
        "\n",
        "Y_test_pred = pretrained.predict(X_test) + finetuned.predict(X_test)"
      ],
      "execution_count": null,
      "outputs": []
    },
    {
      "cell_type": "code",
      "metadata": {
        "id": "3C-6hJFVcP0t"
      },
      "source": [
        "pretrained = model().fit(X_pretrain, Y_pretrain)\n",
        "\n",
        "Y_finetune_pred = pretrained.predict(X_finetune)\n",
        "grad = neg_grad_fn(Y_finetune, Y_finetune_pred) # if MSE loss, this is just 2(Y_finetune - Y_finetune_pred) or something\n",
        "\n",
        "finetuned = model().fit(X_pretrain, Y=grad)\n",
        "\n",
        "Y_test_pred = pretrained.predict(X_test) + finetuned.predict(X_test)"
      ],
      "execution_count": null,
      "outputs": []
    },
    {
      "cell_type": "code",
      "metadata": {
        "id": "rXAVjw5Cc3lD"
      },
      "source": [
        "pretrained = model().fit(X_pretrain, Y_pretrain)\n",
        "\n",
        "Y_finetune_pred = pretrained.predict(X_finetune)\n",
        "grad = neg_grad_fn(Y_finetune, Y_finetune_pred) # if MSE loss, this is just 2(Y_finetune - Y_finetune_pred) or something\n",
        "\n",
        "finetuned = model().fit(X_pretrain, Y=grad)\n",
        "\n",
        "Y_test_pred = pretrained.predict(X_test) + finetuned.predict(X_test)"
      ],
      "execution_count": null,
      "outputs": []
    },
    {
      "cell_type": "code",
      "metadata": {
        "id": "nt5pqh3hB325"
      },
      "source": [
        "#np.transpose(np.asarray([dX_finetune])).shape\n",
        "Y_gradient = np.gradient(np.asarray(finetune_data_Y), X_finetune, edge_order=2);\n"
      ],
      "execution_count": null,
      "outputs": []
    },
    {
      "cell_type": "code",
      "metadata": {
        "id": "-EXZaxB4BlfZ"
      },
      "source": [
        "finetuned_model = RandomForestRegressor(max_depth=4,random_state=1).fit(finetune_data_X, Y_gradient)\n"
      ],
      "execution_count": null,
      "outputs": []
    },
    {
      "cell_type": "code",
      "metadata": {
        "id": "gphqEPHbBdiZ"
      },
      "source": [
        "#finetuned_model = pretrained_model.fit(dX_finetune, Y_gradient)\n"
      ],
      "execution_count": null,
      "outputs": []
    },
    {
      "cell_type": "code",
      "metadata": {
        "colab": {
          "base_uri": "https://localhost:8080/"
        },
        "id": "o6d0uCSZ9qe5",
        "outputId": "138abf94-a8aa-43f2-c156-7aa42e741274"
      },
      "source": [
        "#RMSE Decreases by a small percentage\n",
        "\n",
        "predicted_value = finetuned_model.predict(test_data_X)\n",
        "\n",
        "rmse = mean_squared_error(predicted_value, test_data_Y, squared=False)\n",
        "rmse\n",
        "#finetuned_model.score(test_data_X, test_data_Y)\n",
        "\n"
      ],
      "execution_count": null,
      "outputs": [
        {
          "output_type": "execute_result",
          "data": {
            "text/plain": [
              "25.482637619077984"
            ]
          },
          "metadata": {
            "tags": []
          },
          "execution_count": 725
        }
      ]
    },
    {
      "cell_type": "code",
      "metadata": {
        "colab": {
          "base_uri": "https://localhost:8080/",
          "height": 284
        },
        "id": "nSV_fgHInk-p",
        "outputId": "76c9c4ce-11c6-4c02-81ed-3ebd649949c0"
      },
      "source": [
        "plt.scatter(test_data_X,test_data_Y)\n",
        "\n",
        "plt.scatter(test_data_X,predicted_value)\n",
        "plt.legend(['testing Y data', 'Predicted Y data'])"
      ],
      "execution_count": null,
      "outputs": [
        {
          "output_type": "execute_result",
          "data": {
            "text/plain": [
              "<matplotlib.legend.Legend at 0x7f7b43f04650>"
            ]
          },
          "metadata": {
            "tags": []
          },
          "execution_count": 726
        },
        {
          "output_type": "display_data",
          "data": {
            "image/png": "[encoded data removed]",
            "text/plain": [
              "<Figure size 432x288 with 1 Axes>"
            ]
          },
          "metadata": {
            "tags": [],
            "needs_background": "light"
          }
        }
      ]
    },
    {
      "cell_type": "code",
      "metadata": {
        "colab": {
          "base_uri": "https://localhost:8080/"
        },
        "id": "JX5h6ZSf97y2",
        "outputId": "f5a5e387-c6b3-429a-b6c1-4e20ae7bc3f7"
      },
      "source": [
        "#finetuned_model.score(test_data_X, test_data_Y)\n",
        "print(finetune_data_X.shape)\n",
        "np.transpose(np.array([dX_finetune])).shape\n",
        "dX_finetune.shape\n",
        "predicted_value.shape"
      ],
      "execution_count": null,
      "outputs": [
        {
          "output_type": "stream",
          "text": [
            "(100, 1)\n"
          ],
          "name": "stdout"
        },
        {
          "output_type": "execute_result",
          "data": {
            "text/plain": [
              "(10000,)"
            ]
          },
          "metadata": {
            "tags": []
          },
          "execution_count": 727
        }
      ]
    },
    {
      "cell_type": "code",
      "metadata": {
        "colab": {
          "base_uri": "https://localhost:8080/"
        },
        "id": "uz_rK1SF-rZu",
        "outputId": "cbc6e088-3146-4167-b6fc-819686f0ba26"
      },
      "source": [
        "# Run iteration again\n",
        "for i in range(25):\n",
        "  new_input = np.transpose(np.array([dX_finetune]))\n",
        "  dX_finetune = finetuned_model.predict(new_input)\n",
        "\n",
        "  X_finetune = np.cumsum(dX_finetune)\n",
        "\n",
        "  Y_gradient = np.gradient(np.asarray(finetune_data_Y), X_finetune);\n",
        "  #Y_gradient = np.gradient(np.asarray(dX_finetune), np.cumsum(finetune_data_Y));\n",
        "  #dX_finetune = np.squeeze(np.transpose([dX_finetune]))\n",
        "\n",
        "  finetuned_model = RandomForestRegressor(max_depth=4,random_state=1).fit(new_input, Y_gradient)\n",
        "\n",
        "  predicted_value = finetuned_model.predict(test_data_X)\n",
        "\n",
        "  rmse = mean_squared_error(predicted_value, test_data_Y, squared=False)\n",
        "  print(rmse)\n"
      ],
      "execution_count": null,
      "outputs": [
        {
          "output_type": "stream",
          "text": [
            "1.295714372460468\n",
            "1.4444378987191182\n",
            "1.295714372460474\n",
            "1.4444378987191178\n",
            "1.2957143724604714\n",
            "1.4444378987191178\n",
            "1.2957143724604725\n",
            "1.444437898719117\n",
            "1.2957143724604716\n",
            "1.4444378987191178\n",
            "1.2957143724604732\n",
            "1.4444378987191178\n",
            "1.2957143724604747\n",
            "1.444437898719119\n",
            "1.2957143724604778\n",
            "1.444437898719119\n",
            "1.2957143724604752\n",
            "1.444437898719119\n",
            "1.2957143724604732\n",
            "1.4444378987191184\n",
            "1.2957143724604736\n",
            "1.4444378987191184\n",
            "1.2957143724604774\n",
            "1.4444378987191198\n",
            "1.2957143724604787\n"
          ],
          "name": "stdout"
        }
      ]
    },
    {
      "cell_type": "code",
      "metadata": {
        "colab": {
          "base_uri": "https://localhost:8080/",
          "height": 282
        },
        "id": "_6qLQBqDeLdZ",
        "outputId": "3c3fc254-d569-4e68-a368-edca682826dc"
      },
      "source": [
        "plt.scatter(test_data_X,test_data_Y)\n",
        "\n",
        "plt.scatter(test_data_X,predicted_value)\n",
        "plt.legend(['testing Y data', 'Predicted Y data'])"
      ],
      "execution_count": null,
      "outputs": [
        {
          "output_type": "execute_result",
          "data": {
            "text/plain": [
              "<matplotlib.legend.Legend at 0x7f7b43e09750>"
            ]
          },
          "metadata": {
            "tags": []
          },
          "execution_count": 735
        },
        {
          "output_type": "display_data",
          "data": {
            "image/png": "[encoded data removed]",
            "text/plain": [
              "<Figure size 432x288 with 1 Axes>"
            ]
          },
          "metadata": {
            "tags": [],
            "needs_background": "light"
          }
        }
      ]
    },
    {
      "cell_type": "code",
      "metadata": {
        "colab": {
          "base_uri": "https://localhost:8080/"
        },
        "id": "vjo38nrGePMQ",
        "outputId": "9da85fbd-c4a5-45f1-9586-9e68f8914bcb"
      },
      "source": [
        "np.arange(f.size).shape"
      ],
      "execution_count": null,
      "outputs": [
        {
          "output_type": "execute_result",
          "data": {
            "text/plain": [
              "(6,)"
            ]
          },
          "metadata": {
            "tags": []
          },
          "execution_count": 53
        }
      ]
    },
    {
      "cell_type": "code",
      "metadata": {
        "id": "byO9ouBDeUyw"
      },
      "source": [
        ""
      ],
      "execution_count": null,
      "outputs": []
    },
    {
      "cell_type": "markdown",
      "metadata": {
        "id": "92lx9Jsn_25R"
      },
      "source": [
        "# Neural Network Regression\n",
        "\n"
      ]
    },
    {
      "cell_type": "code",
      "metadata": {
        "colab": {
          "base_uri": "https://localhost:8080/"
        },
        "id": "xEGDVuWP_6dI",
        "outputId": "afc26acd-87be-4925-c8c6-09d295077863"
      },
      "source": [
        "import math\n",
        "import matplotlib.pyplot as plt\n",
        "import numpy as np\n",
        "from numpy.random import seed\n",
        "seed(1)\n",
        "import pandas as pd\n",
        "import statsmodels.api as sm\n",
        "import statsmodels.formula.api as smf\n",
        "import tensorflow\n",
        "tensorflow.random.set_seed(1)\n",
        "from tensorflow.python.keras.layers import Dense\n",
        "from tensorflow.keras.layers import Dropout\n",
        "from tensorflow.python.keras.models import Sequential\n",
        "from tensorflow.python.keras.wrappers.scikit_learn import KerasRegressor\n",
        "from sklearn.metrics import mean_absolute_error\n",
        "from sklearn.metrics import mean_squared_error\n",
        "from sklearn.model_selection import train_test_split\n",
        "from sklearn.preprocessing import MinMaxScaler\n"
      ],
      "execution_count": null,
      "outputs": [
        {
          "output_type": "stream",
          "text": [
            "/usr/local/lib/python3.7/dist-packages/statsmodels/tools/_testing.py:19: FutureWarning: pandas.util.testing is deprecated. Use the functions in the public API at pandas.testing instead.\n",
            "  import pandas.util.testing as tm\n"
          ],
          "name": "stderr"
        }
      ]
    },
    {
      "cell_type": "code",
      "metadata": {
        "id": "T8ct0FPI_7Zh"
      },
      "source": [
        "X_train, X_val, y_train, y_val = train_test_split(pretrain_data_X, pretrain_data_Y)\n"
      ],
      "execution_count": null,
      "outputs": []
    },
    {
      "cell_type": "code",
      "metadata": {
        "colab": {
          "base_uri": "https://localhost:8080/"
        },
        "id": "eoMX7kT9AOOu",
        "outputId": "a1bdc436-c019-4454-e9bd-4523f63456ca"
      },
      "source": [
        "y_train=np.reshape(y_train, (-1,1))\n",
        "y_val=np.reshape(y_val, (-1,1))\n",
        "scaler_x = MinMaxScaler()\n",
        "scaler_y = MinMaxScaler()\n",
        "print(scaler_x.fit(X_train))\n",
        "xtrain_scale=scaler_x.transform(X_train)\n",
        "print(scaler_x.fit(X_val))\n",
        "xval_scale=scaler_x.transform(X_val)\n",
        "print(scaler_y.fit(y_train))\n",
        "ytrain_scale=scaler_y.transform(y_train)\n",
        "print(scaler_y.fit(y_val))\n",
        "yval_scale=scaler_y.transform(y_val)\n"
      ],
      "execution_count": null,
      "outputs": [
        {
          "output_type": "stream",
          "text": [
            "MinMaxScaler(copy=True, feature_range=(0, 1))\n",
            "MinMaxScaler(copy=True, feature_range=(0, 1))\n",
            "MinMaxScaler(copy=True, feature_range=(0, 1))\n",
            "MinMaxScaler(copy=True, feature_range=(0, 1))\n"
          ],
          "name": "stdout"
        }
      ]
    },
    {
      "cell_type": "code",
      "metadata": {
        "colab": {
          "base_uri": "https://localhost:8080/"
        },
        "id": "V5k1rCbKAUEP",
        "outputId": "6099179d-e9b0-404d-97b3-b8b915c43743"
      },
      "source": [
        "model = Sequential()\n",
        "model.add(Dense(8, input_dim=1, kernel_initializer='normal', activation='relu'))\n",
        "model.add(Dense(2670, activation='relu'))\n",
        "model.add(Dense(1, activation='linear'))\n",
        "model.summary()"
      ],
      "execution_count": null,
      "outputs": [
        {
          "output_type": "stream",
          "text": [
            "Model: \"sequential_1\"\n",
            "_________________________________________________________________\n",
            "Layer (type)                 Output Shape              Param #   \n",
            "=================================================================\n",
            "dense_3 (Dense)              (None, 8)                 16        \n",
            "_________________________________________________________________\n",
            "dense_4 (Dense)              (None, 2670)              24030     \n",
            "_________________________________________________________________\n",
            "dense_5 (Dense)              (None, 1)                 2671      \n",
            "=================================================================\n",
            "Total params: 26,717\n",
            "Trainable params: 26,717\n",
            "Non-trainable params: 0\n",
            "_________________________________________________________________\n"
          ],
          "name": "stdout"
        }
      ]
    },
    {
      "cell_type": "code",
      "metadata": {
        "colab": {
          "base_uri": "https://localhost:8080/"
        },
        "id": "tGN710obA4r-",
        "outputId": "88d5d87b-2afc-457c-a6bb-044c4eb965e5"
      },
      "source": [
        ""
      ],
      "execution_count": null,
      "outputs": [
        {
          "output_type": "stream",
          "text": [
            "Requirement already satisfied: tensorflow==2.0.0-rc0 in /usr/local/lib/python3.7/dist-packages (2.0.0rc0)\n",
            "Requirement already satisfied: keras-preprocessing>=1.0.5 in /usr/local/lib/python3.7/dist-packages (from tensorflow==2.0.0-rc0) (1.1.2)\n",
            "Requirement already satisfied: wheel>=0.26 in /usr/local/lib/python3.7/dist-packages (from tensorflow==2.0.0-rc0) (0.36.2)\n",
            "Requirement already satisfied: tb-nightly<1.15.0a20190807,>=1.15.0a20190806 in /usr/local/lib/python3.7/dist-packages (from tensorflow==2.0.0-rc0) (1.15.0a20190806)\n",
            "Requirement already satisfied: google-pasta>=0.1.6 in /usr/local/lib/python3.7/dist-packages (from tensorflow==2.0.0-rc0) (0.2.0)\n",
            "Requirement already satisfied: numpy<2.0,>=1.16.0 in /usr/local/lib/python3.7/dist-packages (from tensorflow==2.0.0-rc0) (1.19.5)\n",
            "Requirement already satisfied: protobuf>=3.6.1 in /usr/local/lib/python3.7/dist-packages (from tensorflow==2.0.0-rc0) (3.12.4)\n",
            "Requirement already satisfied: grpcio>=1.8.6 in /usr/local/lib/python3.7/dist-packages (from tensorflow==2.0.0-rc0) (1.34.1)\n",
            "Requirement already satisfied: absl-py>=0.7.0 in /usr/local/lib/python3.7/dist-packages (from tensorflow==2.0.0-rc0) (0.12.0)\n",
            "Requirement already satisfied: tf-estimator-nightly<1.14.0.dev2019080602,>=1.14.0.dev2019080601 in /usr/local/lib/python3.7/dist-packages (from tensorflow==2.0.0-rc0) (1.14.0.dev2019080601)\n",
            "Requirement already satisfied: opt-einsum>=2.3.2 in /usr/local/lib/python3.7/dist-packages (from tensorflow==2.0.0-rc0) (3.3.0)\n",
            "Requirement already satisfied: six>=1.10.0 in /usr/local/lib/python3.7/dist-packages (from tensorflow==2.0.0-rc0) (1.15.0)\n",
            "Requirement already satisfied: wrapt>=1.11.1 in /usr/local/lib/python3.7/dist-packages (from tensorflow==2.0.0-rc0) (1.12.1)\n",
            "Requirement already satisfied: keras-applications>=1.0.8 in /usr/local/lib/python3.7/dist-packages (from tensorflow==2.0.0-rc0) (1.0.8)\n",
            "Requirement already satisfied: gast>=0.2.0 in /usr/local/lib/python3.7/dist-packages (from tensorflow==2.0.0-rc0) (0.4.0)\n",
            "Requirement already satisfied: astor>=0.6.0 in /usr/local/lib/python3.7/dist-packages (from tensorflow==2.0.0-rc0) (0.8.1)\n",
            "Requirement already satisfied: termcolor>=1.1.0 in /usr/local/lib/python3.7/dist-packages (from tensorflow==2.0.0-rc0) (1.1.0)\n",
            "Requirement already satisfied: setuptools>=41.0.0 in /usr/local/lib/python3.7/dist-packages (from tb-nightly<1.15.0a20190807,>=1.15.0a20190806->tensorflow==2.0.0-rc0) (57.0.0)\n",
            "Requirement already satisfied: markdown>=2.6.8 in /usr/local/lib/python3.7/dist-packages (from tb-nightly<1.15.0a20190807,>=1.15.0a20190806->tensorflow==2.0.0-rc0) (3.3.4)\n",
            "Requirement already satisfied: werkzeug>=0.11.15 in /usr/local/lib/python3.7/dist-packages (from tb-nightly<1.15.0a20190807,>=1.15.0a20190806->tensorflow==2.0.0-rc0) (1.0.1)\n",
            "Requirement already satisfied: h5py in /usr/local/lib/python3.7/dist-packages (from keras-applications>=1.0.8->tensorflow==2.0.0-rc0) (3.1.0)\n",
            "Requirement already satisfied: importlib-metadata; python_version < \"3.8\" in /usr/local/lib/python3.7/dist-packages (from markdown>=2.6.8->tb-nightly<1.15.0a20190807,>=1.15.0a20190806->tensorflow==2.0.0-rc0) (4.0.1)\n",
            "Requirement already satisfied: cached-property; python_version < \"3.8\" in /usr/local/lib/python3.7/dist-packages (from h5py->keras-applications>=1.0.8->tensorflow==2.0.0-rc0) (1.5.2)\n",
            "Requirement already satisfied: typing-extensions>=3.6.4; python_version < \"3.8\" in /usr/local/lib/python3.7/dist-packages (from importlib-metadata; python_version < \"3.8\"->markdown>=2.6.8->tb-nightly<1.15.0a20190807,>=1.15.0a20190806->tensorflow==2.0.0-rc0) (3.7.4.3)\n",
            "Requirement already satisfied: zipp>=0.5 in /usr/local/lib/python3.7/dist-packages (from importlib-metadata; python_version < \"3.8\"->markdown>=2.6.8->tb-nightly<1.15.0a20190807,>=1.15.0a20190806->tensorflow==2.0.0-rc0) (3.4.1)\n"
          ],
          "name": "stdout"
        }
      ]
    },
    {
      "cell_type": "code",
      "metadata": {
        "colab": {
          "base_uri": "https://localhost:8080/"
        },
        "id": "TMq4srXbAZeH",
        "outputId": "68f0026c-f50d-41a5-bb2f-4b0dd961e355"
      },
      "source": [
        "model.compile(loss='mse', optimizer='adam', metrics=['mse','mae'])\n",
        "history=model.fit(xtrain_scale, ytrain_scale, epochs=30, batch_size=150, verbose=1, validation_split=0.2)\n",
        "predictions = model.predict(xval_scale)"
      ],
      "execution_count": null,
      "outputs": [
        {
          "output_type": "stream",
          "text": [
            "Train on 600 samples, validate on 150 samples\n",
            "Epoch 1/30\n",
            "WARNING:tensorflow:Entity <function Function._initialize_uninitialized_variables.<locals>.initialize_variables at 0x7f2cefd97a70> could not be transformed and will be executed as-is. Please report this to the AutoGraph team. When filing the bug, set the verbosity to 10 (on Linux, `export AUTOGRAPH_VERBOSITY=10`) and attach the full output. Cause: module 'gast' has no attribute 'Index'\n",
            "WARNING: Entity <function Function._initialize_uninitialized_variables.<locals>.initialize_variables at 0x7f2cefd97a70> could not be transformed and will be executed as-is. Please report this to the AutoGraph team. When filing the bug, set the verbosity to 10 (on Linux, `export AUTOGRAPH_VERBOSITY=10`) and attach the full output. Cause: module 'gast' has no attribute 'Index'\n",
            "600/600 [==============================] - 1s 849us/sample - loss: 0.0259 - mse: 0.0259 - mae: 0.1291 - val_loss: 0.0243 - val_mse: 0.0243 - val_mae: 0.1265\n",
            "Epoch 2/30\n",
            "600/600 [==============================] - 0s 79us/sample - loss: 0.0254 - mse: 0.0254 - mae: 0.1280 - val_loss: 0.0242 - val_mse: 0.0242 - val_mae: 0.1273\n",
            "Epoch 3/30\n",
            "600/600 [==============================] - 0s 75us/sample - loss: 0.0254 - mse: 0.0254 - mae: 0.1278 - val_loss: 0.0246 - val_mse: 0.0246 - val_mae: 0.1293\n",
            "Epoch 4/30\n",
            "600/600 [==============================] - 0s 71us/sample - loss: 0.0255 - mse: 0.0255 - mae: 0.1283 - val_loss: 0.0243 - val_mse: 0.0243 - val_mae: 0.1264\n",
            "Epoch 5/30\n",
            "600/600 [==============================] - 0s 75us/sample - loss: 0.0253 - mse: 0.0253 - mae: 0.1276 - val_loss: 0.0244 - val_mse: 0.0244 - val_mae: 0.1282\n",
            "Epoch 6/30\n",
            "600/600 [==============================] - 0s 68us/sample - loss: 0.0256 - mse: 0.0256 - mae: 0.1283 - val_loss: 0.0246 - val_mse: 0.0246 - val_mae: 0.1291\n",
            "Epoch 7/30\n",
            "600/600 [==============================] - 0s 64us/sample - loss: 0.0252 - mse: 0.0252 - mae: 0.1275 - val_loss: 0.0243 - val_mse: 0.0243 - val_mae: 0.1265\n",
            "Epoch 8/30\n",
            "600/600 [==============================] - 0s 70us/sample - loss: 0.0255 - mse: 0.0255 - mae: 0.1284 - val_loss: 0.0243 - val_mse: 0.0243 - val_mae: 0.1280\n",
            "Epoch 9/30\n",
            "600/600 [==============================] - 0s 65us/sample - loss: 0.0253 - mse: 0.0253 - mae: 0.1277 - val_loss: 0.0244 - val_mse: 0.0244 - val_mae: 0.1285\n",
            "Epoch 10/30\n",
            "600/600 [==============================] - 0s 76us/sample - loss: 0.0252 - mse: 0.0252 - mae: 0.1274 - val_loss: 0.0243 - val_mse: 0.0243 - val_mae: 0.1271\n",
            "Epoch 11/30\n",
            "600/600 [==============================] - 0s 72us/sample - loss: 0.0252 - mse: 0.0252 - mae: 0.1275 - val_loss: 0.0243 - val_mse: 0.0243 - val_mae: 0.1278\n",
            "Epoch 12/30\n",
            "600/600 [==============================] - 0s 73us/sample - loss: 0.0252 - mse: 0.0252 - mae: 0.1276 - val_loss: 0.0244 - val_mse: 0.0244 - val_mae: 0.1283\n",
            "Epoch 13/30\n",
            "600/600 [==============================] - 0s 93us/sample - loss: 0.0252 - mse: 0.0252 - mae: 0.1277 - val_loss: 0.0243 - val_mse: 0.0243 - val_mae: 0.1274\n",
            "Epoch 14/30\n",
            "600/600 [==============================] - 0s 88us/sample - loss: 0.0252 - mse: 0.0252 - mae: 0.1275 - val_loss: 0.0243 - val_mse: 0.0243 - val_mae: 0.1279\n",
            "Epoch 15/30\n",
            "600/600 [==============================] - 0s 83us/sample - loss: 0.0252 - mse: 0.0252 - mae: 0.1276 - val_loss: 0.0244 - val_mse: 0.0244 - val_mae: 0.1283\n",
            "Epoch 16/30\n",
            "600/600 [==============================] - 0s 74us/sample - loss: 0.0253 - mse: 0.0253 - mae: 0.1278 - val_loss: 0.0243 - val_mse: 0.0243 - val_mae: 0.1276\n",
            "Epoch 17/30\n",
            "600/600 [==============================] - 0s 72us/sample - loss: 0.0252 - mse: 0.0252 - mae: 0.1275 - val_loss: 0.0244 - val_mse: 0.0244 - val_mae: 0.1281\n",
            "Epoch 18/30\n",
            "600/600 [==============================] - 0s 79us/sample - loss: 0.0252 - mse: 0.0252 - mae: 0.1276 - val_loss: 0.0244 - val_mse: 0.0244 - val_mae: 0.1283\n",
            "Epoch 19/30\n",
            "600/600 [==============================] - 0s 71us/sample - loss: 0.0253 - mse: 0.0253 - mae: 0.1277 - val_loss: 0.0243 - val_mse: 0.0243 - val_mae: 0.1271\n",
            "Epoch 20/30\n",
            "600/600 [==============================] - 0s 78us/sample - loss: 0.0252 - mse: 0.0252 - mae: 0.1274 - val_loss: 0.0244 - val_mse: 0.0244 - val_mae: 0.1285\n",
            "Epoch 21/30\n",
            "600/600 [==============================] - 0s 85us/sample - loss: 0.0254 - mse: 0.0254 - mae: 0.1279 - val_loss: 0.0244 - val_mse: 0.0244 - val_mae: 0.1280\n",
            "Epoch 22/30\n",
            "600/600 [==============================] - 0s 70us/sample - loss: 0.0252 - mse: 0.0252 - mae: 0.1275 - val_loss: 0.0243 - val_mse: 0.0243 - val_mae: 0.1267\n",
            "Epoch 23/30\n",
            "600/600 [==============================] - 0s 77us/sample - loss: 0.0253 - mse: 0.0253 - mae: 0.1277 - val_loss: 0.0244 - val_mse: 0.0244 - val_mae: 0.1282\n",
            "Epoch 24/30\n",
            "600/600 [==============================] - 0s 82us/sample - loss: 0.0253 - mse: 0.0253 - mae: 0.1276 - val_loss: 0.0246 - val_mse: 0.0246 - val_mae: 0.1289\n",
            "Epoch 25/30\n",
            "600/600 [==============================] - 0s 82us/sample - loss: 0.0252 - mse: 0.0252 - mae: 0.1276 - val_loss: 0.0243 - val_mse: 0.0243 - val_mae: 0.1269\n",
            "Epoch 26/30\n",
            "600/600 [==============================] - 0s 75us/sample - loss: 0.0255 - mse: 0.0255 - mae: 0.1284 - val_loss: 0.0245 - val_mse: 0.0245 - val_mae: 0.1288\n",
            "Epoch 27/30\n",
            "600/600 [==============================] - 0s 77us/sample - loss: 0.0252 - mse: 0.0252 - mae: 0.1272 - val_loss: 0.0243 - val_mse: 0.0243 - val_mae: 0.1268\n",
            "Epoch 28/30\n",
            "600/600 [==============================] - 0s 86us/sample - loss: 0.0253 - mse: 0.0253 - mae: 0.1279 - val_loss: 0.0244 - val_mse: 0.0244 - val_mae: 0.1282\n",
            "Epoch 29/30\n",
            "600/600 [==============================] - 0s 76us/sample - loss: 0.0252 - mse: 0.0252 - mae: 0.1275 - val_loss: 0.0244 - val_mse: 0.0244 - val_mae: 0.1283\n",
            "Epoch 30/30\n",
            "600/600 [==============================] - 0s 75us/sample - loss: 0.0252 - mse: 0.0252 - mae: 0.1274 - val_loss: 0.0243 - val_mse: 0.0243 - val_mae: 0.1278\n"
          ],
          "name": "stdout"
        }
      ]
    },
    {
      "cell_type": "code",
      "metadata": {
        "colab": {
          "base_uri": "https://localhost:8080/",
          "height": 312
        },
        "id": "OUVKBwalAeJn",
        "outputId": "2b55cfd6-d8bb-4256-9d3d-9d26a42b869f"
      },
      "source": [
        "print(history.history.keys())\n",
        "# \"Loss\"\n",
        "plt.plot(history.history['loss'])\n",
        "plt.plot(history.history['val_loss'])\n",
        "plt.title('model loss')\n",
        "plt.ylabel('loss')\n",
        "plt.xlabel('epoch')\n",
        "plt.legend(['train', 'validation'], loc='upper left')\n",
        "plt.show()"
      ],
      "execution_count": null,
      "outputs": [
        {
          "output_type": "stream",
          "text": [
            "dict_keys(['loss', 'mse', 'mae', 'val_loss', 'val_mse', 'val_mae'])\n"
          ],
          "name": "stdout"
        },
        {
          "output_type": "display_data",
          "data": {
            "image/png": "[encoded data removed]",
            "text/plain": [
              "<Figure size 432x288 with 1 Axes>"
            ]
          },
          "metadata": {
            "tags": [],
            "needs_background": "light"
          }
        }
      ]
    },
    {
      "cell_type": "code",
      "metadata": {
        "colab": {
          "base_uri": "https://localhost:8080/"
        },
        "id": "XxLU9dHFBsYh",
        "outputId": "1c5ff3b4-917d-42ee-a4bc-1fc2d880dd6d"
      },
      "source": [
        "predictions = model.predict(test_data_X)\n",
        "mean_absolute_error(test_data_Y,predictions)"
      ],
      "execution_count": null,
      "outputs": [
        {
          "output_type": "execute_result",
          "data": {
            "text/plain": [
              "0.855826078274846"
            ]
          },
          "metadata": {
            "tags": []
          },
          "execution_count": 23
        }
      ]
    },
    {
      "cell_type": "code",
      "metadata": {
        "colab": {
          "base_uri": "https://localhost:8080/",
          "height": 282
        },
        "id": "ElUg-bTxCdl5",
        "outputId": "b9e74bca-2982-4eab-c9ca-60ca2b37b454"
      },
      "source": [
        "plt.scatter(test_data_X,test_data_Y)\n",
        "\n",
        "plt.scatter(test_data_X,predictions)\n",
        "plt.legend(['testing Y data', 'Predicted Y data'])"
      ],
      "execution_count": null,
      "outputs": [
        {
          "output_type": "execute_result",
          "data": {
            "text/plain": [
              "<matplotlib.legend.Legend at 0x7f2d2b033cd0>"
            ]
          },
          "metadata": {
            "tags": []
          },
          "execution_count": 24
        },
        {
          "output_type": "display_data",
          "data": {
            "image/png": "[encoded data removed]",
            "text/plain": [
              "<Figure size 432x288 with 1 Axes>"
            ]
          },
          "metadata": {
            "tags": [],
            "needs_background": "light"
          }
        }
      ]
    },
    {
      "cell_type": "code",
      "metadata": {
        "colab": {
          "base_uri": "https://localhost:8080/"
        },
        "id": "9hFMLZvZC_Qx",
        "outputId": "ba028272-7923-42b9-aa22-e1b9963631c5"
      },
      "source": [
        "\n",
        "prediction_layer = tensorflow.keras.layers.Dense(1)\n",
        "prediction_batch = prediction_layer(finetune_data_Y)\n",
        "print(prediction_batch.shape)\n"
      ],
      "execution_count": null,
      "outputs": [
        {
          "output_type": "stream",
          "text": [
            "(100, 1)\n"
          ],
          "name": "stdout"
        }
      ]
    },
    {
      "cell_type": "code",
      "metadata": {
        "colab": {
          "base_uri": "https://localhost:8080/",
          "height": 375
        },
        "id": "G3Eg27AOENoa",
        "outputId": "f3388412-fa05-4955-83b4-55bd0304b8e1"
      },
      "source": [
        "X_train, X_val, y_train, y_val = train_test_split(finetune_data_X, finetune_data_Y)\n",
        "\n",
        "prediction_layer = tensorflow.keras.layers.Dense(0)\n",
        "prediction_batch = prediction_layer([y_train])\n",
        "\n",
        "model.compile(loss='mse', optimizer=\"adam\", metrics=['mse','mae'])\n",
        "\n",
        "model.fit(X_train, prediction_batch, epochs=20, batch_size=128,validation_data=(X_val,y_val))\n",
        "\n",
        "predictions = model.predict(X_val)"
      ],
      "execution_count": null,
      "outputs": [
        {
          "output_type": "error",
          "ename": "ValueError",
          "evalue": "ignored",
          "traceback": [
            "\u001b[0;31m---------------------------------------------------------------------------\u001b[0m",
            "\u001b[0;31mValueError\u001b[0m                                Traceback (most recent call last)",
            "\u001b[0;32m<ipython-input-52-b6ae718d25bf>\u001b[0m in \u001b[0;36m<module>\u001b[0;34m()\u001b[0m\n\u001b[1;32m      2\u001b[0m \u001b[0;34m\u001b[0m\u001b[0m\n\u001b[1;32m      3\u001b[0m \u001b[0mprediction_layer\u001b[0m \u001b[0;34m=\u001b[0m \u001b[0mtensorflow\u001b[0m\u001b[0;34m.\u001b[0m\u001b[0mkeras\u001b[0m\u001b[0;34m.\u001b[0m\u001b[0mlayers\u001b[0m\u001b[0;34m.\u001b[0m\u001b[0mDense\u001b[0m\u001b[0;34m(\u001b[0m\u001b[0;36m0\u001b[0m\u001b[0;34m)\u001b[0m\u001b[0;34m\u001b[0m\u001b[0;34m\u001b[0m\u001b[0m\n\u001b[0;32m----> 4\u001b[0;31m \u001b[0mprediction_batch\u001b[0m \u001b[0;34m=\u001b[0m \u001b[0mprediction_layer\u001b[0m\u001b[0;34m(\u001b[0m\u001b[0;34m[\u001b[0m\u001b[0my_train\u001b[0m\u001b[0;34m]\u001b[0m\u001b[0;34m)\u001b[0m\u001b[0;34m\u001b[0m\u001b[0;34m\u001b[0m\u001b[0m\n\u001b[0m\u001b[1;32m      5\u001b[0m \u001b[0;34m\u001b[0m\u001b[0m\n\u001b[1;32m      6\u001b[0m \u001b[0mmodel\u001b[0m\u001b[0;34m.\u001b[0m\u001b[0mcompile\u001b[0m\u001b[0;34m(\u001b[0m\u001b[0mloss\u001b[0m\u001b[0;34m=\u001b[0m\u001b[0;34m'mse'\u001b[0m\u001b[0;34m,\u001b[0m \u001b[0moptimizer\u001b[0m\u001b[0;34m=\u001b[0m\u001b[0;34m\"adam\"\u001b[0m\u001b[0;34m,\u001b[0m \u001b[0mmetrics\u001b[0m\u001b[0;34m=\u001b[0m\u001b[0;34m[\u001b[0m\u001b[0;34m'mse'\u001b[0m\u001b[0;34m,\u001b[0m\u001b[0;34m'mae'\u001b[0m\u001b[0;34m]\u001b[0m\u001b[0;34m)\u001b[0m\u001b[0;34m\u001b[0m\u001b[0;34m\u001b[0m\u001b[0m\n",
            "\u001b[0;32m/usr/local/lib/python3.7/dist-packages/tensorflow_core/python/keras/engine/base_layer.py\u001b[0m in \u001b[0;36m__call__\u001b[0;34m(self, inputs, *args, **kwargs)\u001b[0m\n\u001b[1;32m    845\u001b[0m         \u001b[0;31m# Eager execution on data tensors.\u001b[0m\u001b[0;34m\u001b[0m\u001b[0;34m\u001b[0m\u001b[0;34m\u001b[0m\u001b[0m\n\u001b[1;32m    846\u001b[0m         \u001b[0;32mwith\u001b[0m \u001b[0mbackend\u001b[0m\u001b[0;34m.\u001b[0m\u001b[0mname_scope\u001b[0m\u001b[0;34m(\u001b[0m\u001b[0mself\u001b[0m\u001b[0;34m.\u001b[0m\u001b[0m_name_scope\u001b[0m\u001b[0;34m(\u001b[0m\u001b[0;34m)\u001b[0m\u001b[0;34m)\u001b[0m\u001b[0;34m:\u001b[0m\u001b[0;34m\u001b[0m\u001b[0;34m\u001b[0m\u001b[0m\n\u001b[0;32m--> 847\u001b[0;31m           \u001b[0mself\u001b[0m\u001b[0;34m.\u001b[0m\u001b[0m_maybe_build\u001b[0m\u001b[0;34m(\u001b[0m\u001b[0minputs\u001b[0m\u001b[0;34m)\u001b[0m\u001b[0;34m\u001b[0m\u001b[0;34m\u001b[0m\u001b[0m\n\u001b[0m\u001b[1;32m    848\u001b[0m           \u001b[0mcast_inputs\u001b[0m \u001b[0;34m=\u001b[0m \u001b[0mself\u001b[0m\u001b[0;34m.\u001b[0m\u001b[0m_maybe_cast_inputs\u001b[0m\u001b[0;34m(\u001b[0m\u001b[0minputs\u001b[0m\u001b[0;34m)\u001b[0m\u001b[0;34m\u001b[0m\u001b[0;34m\u001b[0m\u001b[0m\n\u001b[1;32m    849\u001b[0m           with base_layer_utils.autocast_context_manager(\n",
            "\u001b[0;32m/usr/local/lib/python3.7/dist-packages/tensorflow_core/python/keras/engine/base_layer.py\u001b[0m in \u001b[0;36m_maybe_build\u001b[0;34m(self, inputs)\u001b[0m\n\u001b[1;32m   2078\u001b[0m     \u001b[0;32mif\u001b[0m \u001b[0;32mnot\u001b[0m \u001b[0mself\u001b[0m\u001b[0;34m.\u001b[0m\u001b[0mbuilt\u001b[0m\u001b[0;34m:\u001b[0m\u001b[0;34m\u001b[0m\u001b[0;34m\u001b[0m\u001b[0m\n\u001b[1;32m   2079\u001b[0m       input_spec.assert_input_compatibility(\n\u001b[0;32m-> 2080\u001b[0;31m           self.input_spec, inputs, self.name)\n\u001b[0m\u001b[1;32m   2081\u001b[0m       \u001b[0minput_list\u001b[0m \u001b[0;34m=\u001b[0m \u001b[0mnest\u001b[0m\u001b[0;34m.\u001b[0m\u001b[0mflatten\u001b[0m\u001b[0;34m(\u001b[0m\u001b[0minputs\u001b[0m\u001b[0;34m)\u001b[0m\u001b[0;34m\u001b[0m\u001b[0;34m\u001b[0m\u001b[0m\n\u001b[1;32m   2082\u001b[0m       \u001b[0;32mif\u001b[0m \u001b[0minput_list\u001b[0m \u001b[0;32mand\u001b[0m \u001b[0mself\u001b[0m\u001b[0;34m.\u001b[0m\u001b[0m_dtype_policy\u001b[0m\u001b[0;34m.\u001b[0m\u001b[0mcompute_dtype\u001b[0m \u001b[0;32mis\u001b[0m \u001b[0;32mNone\u001b[0m\u001b[0;34m:\u001b[0m\u001b[0;34m\u001b[0m\u001b[0;34m\u001b[0m\u001b[0m\n",
            "\u001b[0;32m/usr/local/lib/python3.7/dist-packages/tensorflow_core/python/keras/engine/input_spec.py\u001b[0m in \u001b[0;36massert_input_compatibility\u001b[0;34m(input_spec, inputs, layer_name)\u001b[0m\n\u001b[1;32m    191\u001b[0m                          \u001b[0;34m', found ndim='\u001b[0m \u001b[0;34m+\u001b[0m \u001b[0mstr\u001b[0m\u001b[0;34m(\u001b[0m\u001b[0mndim\u001b[0m\u001b[0;34m)\u001b[0m \u001b[0;34m+\u001b[0m\u001b[0;34m\u001b[0m\u001b[0;34m\u001b[0m\u001b[0m\n\u001b[1;32m    192\u001b[0m                          \u001b[0;34m'. Full shape received: '\u001b[0m \u001b[0;34m+\u001b[0m\u001b[0;34m\u001b[0m\u001b[0;34m\u001b[0m\u001b[0m\n\u001b[0;32m--> 193\u001b[0;31m                          str(x.shape.as_list()))\n\u001b[0m\u001b[1;32m    194\u001b[0m     \u001b[0;31m# Check dtype.\u001b[0m\u001b[0;34m\u001b[0m\u001b[0;34m\u001b[0m\u001b[0;34m\u001b[0m\u001b[0m\n\u001b[1;32m    195\u001b[0m     \u001b[0;32mif\u001b[0m \u001b[0mspec\u001b[0m\u001b[0;34m.\u001b[0m\u001b[0mdtype\u001b[0m \u001b[0;32mis\u001b[0m \u001b[0;32mnot\u001b[0m \u001b[0;32mNone\u001b[0m\u001b[0;34m:\u001b[0m\u001b[0;34m\u001b[0m\u001b[0;34m\u001b[0m\u001b[0m\n",
            "\u001b[0;31mValueError\u001b[0m: Input 0 of layer dense_10 is incompatible with the layer: : expected min_ndim=2, found ndim=1. Full shape received: [75]"
          ]
        }
      ]
    },
    {
      "cell_type": "code",
      "metadata": {
        "colab": {
          "base_uri": "https://localhost:8080/"
        },
        "id": "A6VMe3xjFFMj",
        "outputId": "c7c40c2f-e29f-47ea-f4ad-2fd65411cf11"
      },
      "source": [
        "predictions = model.predict(test_data_X)\n",
        "mean_absolute_error(test_data_Y,predictions)"
      ],
      "execution_count": null,
      "outputs": [
        {
          "output_type": "execute_result",
          "data": {
            "text/plain": [
              "0.7700368161082268"
            ]
          },
          "metadata": {
            "tags": []
          },
          "execution_count": 47
        }
      ]
    },
    {
      "cell_type": "code",
      "metadata": {
        "colab": {
          "base_uri": "https://localhost:8080/",
          "height": 282
        },
        "id": "ARSXxa9bIiYm",
        "outputId": "22af7dd0-a596-4109-853e-daab7e2bc887"
      },
      "source": [
        "plt.scatter(test_data_X,test_data_Y)\n",
        "\n",
        "plt.scatter(test_data_X,predictions)\n",
        "plt.legend(['testing Y data', 'Predicted Y data'])"
      ],
      "execution_count": null,
      "outputs": [
        {
          "output_type": "execute_result",
          "data": {
            "text/plain": [
              "<matplotlib.legend.Legend at 0x7f2cf1ae0810>"
            ]
          },
          "metadata": {
            "tags": []
          },
          "execution_count": 48
        },
        {
          "output_type": "display_data",
          "data": {
            "image/png": "[encoded data removed]",
            "text/plain": [
              "<Figure size 432x288 with 1 Axes>"
            ]
          },
          "metadata": {
            "tags": [],
            "needs_background": "light"
          }
        }
      ]
    },
    {
      "cell_type": "code",
      "metadata": {
        "id": "Ne0nEspLIlqF"
      },
      "source": [
        ""
      ],
      "execution_count": null,
      "outputs": []
    }
  ]
}